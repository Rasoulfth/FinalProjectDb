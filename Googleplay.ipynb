{
 "cells": [
  {
   "cell_type": "code",
   "execution_count": 26,
   "id": "cac72ebd",
   "metadata": {},
   "outputs": [],
   "source": [
    "import pandas as pd\n",
    "import numpy as np"
   ]
  },
  {
   "cell_type": "code",
   "execution_count": 27,
   "id": "68ed7c62",
   "metadata": {},
   "outputs": [],
   "source": [
    "df = pd.read_csv(\"C:\\\\Users\\\\RASOUL\\\\Desktop\\\\Google-Playstore.csv\")"
   ]
  },
  {
   "cell_type": "code",
   "execution_count": 28,
   "id": "e39e1228",
   "metadata": {},
   "outputs": [
    {
     "data": {
      "text/html": [
       "<div>\n",
       "<style scoped>\n",
       "    .dataframe tbody tr th:only-of-type {\n",
       "        vertical-align: middle;\n",
       "    }\n",
       "\n",
       "    .dataframe tbody tr th {\n",
       "        vertical-align: top;\n",
       "    }\n",
       "\n",
       "    .dataframe thead th {\n",
       "        text-align: right;\n",
       "    }\n",
       "</style>\n",
       "<table border=\"1\" class=\"dataframe\">\n",
       "  <thead>\n",
       "    <tr style=\"text-align: right;\">\n",
       "      <th></th>\n",
       "      <th>App Name</th>\n",
       "      <th>App Id</th>\n",
       "      <th>Category</th>\n",
       "      <th>Rating</th>\n",
       "      <th>Rating Count</th>\n",
       "      <th>Installs</th>\n",
       "      <th>Minimum Installs</th>\n",
       "      <th>Maximum Installs</th>\n",
       "      <th>Free</th>\n",
       "      <th>Price</th>\n",
       "      <th>...</th>\n",
       "      <th>Developer Website</th>\n",
       "      <th>Developer Email</th>\n",
       "      <th>Released</th>\n",
       "      <th>Last Updated</th>\n",
       "      <th>Content Rating</th>\n",
       "      <th>Privacy Policy</th>\n",
       "      <th>Ad Supported</th>\n",
       "      <th>In App Purchases</th>\n",
       "      <th>Editors Choice</th>\n",
       "      <th>Scraped Time</th>\n",
       "    </tr>\n",
       "  </thead>\n",
       "  <tbody>\n",
       "    <tr>\n",
       "      <th>0</th>\n",
       "      <td>Gakondo</td>\n",
       "      <td>com.ishakwe.gakondo</td>\n",
       "      <td>Adventure</td>\n",
       "      <td>0.0</td>\n",
       "      <td>0.0</td>\n",
       "      <td>10+</td>\n",
       "      <td>10.0</td>\n",
       "      <td>15</td>\n",
       "      <td>True</td>\n",
       "      <td>0.0</td>\n",
       "      <td>...</td>\n",
       "      <td>https://beniyizibyose.tk/#/</td>\n",
       "      <td>jean21101999@gmail.com</td>\n",
       "      <td>Feb 26, 2020</td>\n",
       "      <td>Feb 26, 2020</td>\n",
       "      <td>Everyone</td>\n",
       "      <td>https://beniyizibyose.tk/projects/</td>\n",
       "      <td>False</td>\n",
       "      <td>False</td>\n",
       "      <td>False</td>\n",
       "      <td>2021-06-15 20:19:35</td>\n",
       "    </tr>\n",
       "    <tr>\n",
       "      <th>1</th>\n",
       "      <td>Ampere Battery Info</td>\n",
       "      <td>com.webserveis.batteryinfo</td>\n",
       "      <td>Tools</td>\n",
       "      <td>4.4</td>\n",
       "      <td>64.0</td>\n",
       "      <td>5,000+</td>\n",
       "      <td>5000.0</td>\n",
       "      <td>7662</td>\n",
       "      <td>True</td>\n",
       "      <td>0.0</td>\n",
       "      <td>...</td>\n",
       "      <td>https://webserveis.netlify.app/</td>\n",
       "      <td>webserveis@gmail.com</td>\n",
       "      <td>May 21, 2020</td>\n",
       "      <td>May 06, 2021</td>\n",
       "      <td>Everyone</td>\n",
       "      <td>https://dev4phones.wordpress.com/licencia-de-uso/</td>\n",
       "      <td>True</td>\n",
       "      <td>False</td>\n",
       "      <td>False</td>\n",
       "      <td>2021-06-15 20:19:35</td>\n",
       "    </tr>\n",
       "    <tr>\n",
       "      <th>2</th>\n",
       "      <td>Vibook</td>\n",
       "      <td>com.doantiepvien.crm</td>\n",
       "      <td>Productivity</td>\n",
       "      <td>0.0</td>\n",
       "      <td>0.0</td>\n",
       "      <td>50+</td>\n",
       "      <td>50.0</td>\n",
       "      <td>58</td>\n",
       "      <td>True</td>\n",
       "      <td>0.0</td>\n",
       "      <td>...</td>\n",
       "      <td>NaN</td>\n",
       "      <td>vnacrewit@gmail.com</td>\n",
       "      <td>Aug 9, 2019</td>\n",
       "      <td>Aug 19, 2019</td>\n",
       "      <td>Everyone</td>\n",
       "      <td>https://www.vietnamairlines.com/vn/en/terms-an...</td>\n",
       "      <td>False</td>\n",
       "      <td>False</td>\n",
       "      <td>False</td>\n",
       "      <td>2021-06-15 20:19:35</td>\n",
       "    </tr>\n",
       "    <tr>\n",
       "      <th>3</th>\n",
       "      <td>Smart City Trichy Public Service Vehicles 17UC...</td>\n",
       "      <td>cst.stJoseph.ug17ucs548</td>\n",
       "      <td>Communication</td>\n",
       "      <td>5.0</td>\n",
       "      <td>5.0</td>\n",
       "      <td>10+</td>\n",
       "      <td>10.0</td>\n",
       "      <td>19</td>\n",
       "      <td>True</td>\n",
       "      <td>0.0</td>\n",
       "      <td>...</td>\n",
       "      <td>http://www.climatesmarttech.com/</td>\n",
       "      <td>climatesmarttech2@gmail.com</td>\n",
       "      <td>Sep 10, 2018</td>\n",
       "      <td>Oct 13, 2018</td>\n",
       "      <td>Everyone</td>\n",
       "      <td>NaN</td>\n",
       "      <td>True</td>\n",
       "      <td>False</td>\n",
       "      <td>False</td>\n",
       "      <td>2021-06-15 20:19:35</td>\n",
       "    </tr>\n",
       "    <tr>\n",
       "      <th>4</th>\n",
       "      <td>GROW.me</td>\n",
       "      <td>com.horodyski.grower</td>\n",
       "      <td>Tools</td>\n",
       "      <td>0.0</td>\n",
       "      <td>0.0</td>\n",
       "      <td>100+</td>\n",
       "      <td>100.0</td>\n",
       "      <td>478</td>\n",
       "      <td>True</td>\n",
       "      <td>0.0</td>\n",
       "      <td>...</td>\n",
       "      <td>http://www.horodyski.com.pl</td>\n",
       "      <td>rmilekhorodyski@gmail.com</td>\n",
       "      <td>Feb 21, 2020</td>\n",
       "      <td>Nov 12, 2018</td>\n",
       "      <td>Everyone</td>\n",
       "      <td>http://www.horodyski.com.pl</td>\n",
       "      <td>False</td>\n",
       "      <td>False</td>\n",
       "      <td>False</td>\n",
       "      <td>2021-06-15 20:19:35</td>\n",
       "    </tr>\n",
       "  </tbody>\n",
       "</table>\n",
       "<p>5 rows × 24 columns</p>\n",
       "</div>"
      ],
      "text/plain": [
       "                                            App Name  \\\n",
       "0                                            Gakondo   \n",
       "1                                Ampere Battery Info   \n",
       "2                                             Vibook   \n",
       "3  Smart City Trichy Public Service Vehicles 17UC...   \n",
       "4                                            GROW.me   \n",
       "\n",
       "                       App Id       Category  Rating  Rating Count Installs  \\\n",
       "0         com.ishakwe.gakondo      Adventure     0.0           0.0      10+   \n",
       "1  com.webserveis.batteryinfo          Tools     4.4          64.0   5,000+   \n",
       "2        com.doantiepvien.crm   Productivity     0.0           0.0      50+   \n",
       "3     cst.stJoseph.ug17ucs548  Communication     5.0           5.0      10+   \n",
       "4        com.horodyski.grower          Tools     0.0           0.0     100+   \n",
       "\n",
       "   Minimum Installs  Maximum Installs  Free  Price  ...  \\\n",
       "0              10.0                15  True    0.0  ...   \n",
       "1            5000.0              7662  True    0.0  ...   \n",
       "2              50.0                58  True    0.0  ...   \n",
       "3              10.0                19  True    0.0  ...   \n",
       "4             100.0               478  True    0.0  ...   \n",
       "\n",
       "                  Developer Website              Developer Email  \\\n",
       "0       https://beniyizibyose.tk/#/       jean21101999@gmail.com   \n",
       "1   https://webserveis.netlify.app/         webserveis@gmail.com   \n",
       "2                               NaN          vnacrewit@gmail.com   \n",
       "3  http://www.climatesmarttech.com/  climatesmarttech2@gmail.com   \n",
       "4       http://www.horodyski.com.pl    rmilekhorodyski@gmail.com   \n",
       "\n",
       "       Released  Last Updated Content Rating  \\\n",
       "0  Feb 26, 2020  Feb 26, 2020       Everyone   \n",
       "1  May 21, 2020  May 06, 2021       Everyone   \n",
       "2   Aug 9, 2019  Aug 19, 2019       Everyone   \n",
       "3  Sep 10, 2018  Oct 13, 2018       Everyone   \n",
       "4  Feb 21, 2020  Nov 12, 2018       Everyone   \n",
       "\n",
       "                                      Privacy Policy Ad Supported  \\\n",
       "0                 https://beniyizibyose.tk/projects/        False   \n",
       "1  https://dev4phones.wordpress.com/licencia-de-uso/         True   \n",
       "2  https://www.vietnamairlines.com/vn/en/terms-an...        False   \n",
       "3                                                NaN         True   \n",
       "4                        http://www.horodyski.com.pl        False   \n",
       "\n",
       "  In App Purchases Editors Choice         Scraped Time  \n",
       "0            False          False  2021-06-15 20:19:35  \n",
       "1            False          False  2021-06-15 20:19:35  \n",
       "2            False          False  2021-06-15 20:19:35  \n",
       "3            False          False  2021-06-15 20:19:35  \n",
       "4            False          False  2021-06-15 20:19:35  \n",
       "\n",
       "[5 rows x 24 columns]"
      ]
     },
     "execution_count": 28,
     "metadata": {},
     "output_type": "execute_result"
    }
   ],
   "source": [
    "df.head()"
   ]
  },
  {
   "cell_type": "code",
   "execution_count": 29,
   "id": "d8fd3569",
   "metadata": {},
   "outputs": [
    {
     "name": "stdout",
     "output_type": "stream",
     "text": [
      "<class 'pandas.core.frame.DataFrame'>\n",
      "RangeIndex: 2312944 entries, 0 to 2312943\n",
      "Data columns (total 24 columns):\n",
      " #   Column             Dtype  \n",
      "---  ------             -----  \n",
      " 0   App Name           object \n",
      " 1   App Id             object \n",
      " 2   Category           object \n",
      " 3   Rating             float64\n",
      " 4   Rating Count       float64\n",
      " 5   Installs           object \n",
      " 6   Minimum Installs   float64\n",
      " 7   Maximum Installs   int64  \n",
      " 8   Free               bool   \n",
      " 9   Price              float64\n",
      " 10  Currency           object \n",
      " 11  Size               object \n",
      " 12  Minimum Android    object \n",
      " 13  Developer Id       object \n",
      " 14  Developer Website  object \n",
      " 15  Developer Email    object \n",
      " 16  Released           object \n",
      " 17  Last Updated       object \n",
      " 18  Content Rating     object \n",
      " 19  Privacy Policy     object \n",
      " 20  Ad Supported       bool   \n",
      " 21  In App Purchases   bool   \n",
      " 22  Editors Choice     bool   \n",
      " 23  Scraped Time       object \n",
      "dtypes: bool(4), float64(4), int64(1), object(15)\n",
      "memory usage: 361.8+ MB\n"
     ]
    }
   ],
   "source": [
    "df.info()"
   ]
  },
  {
   "cell_type": "code",
   "execution_count": 30,
   "id": "bf42c0b9",
   "metadata": {},
   "outputs": [
    {
     "data": {
      "text/html": [
       "<div>\n",
       "<style scoped>\n",
       "    .dataframe tbody tr th:only-of-type {\n",
       "        vertical-align: middle;\n",
       "    }\n",
       "\n",
       "    .dataframe tbody tr th {\n",
       "        vertical-align: top;\n",
       "    }\n",
       "\n",
       "    .dataframe thead th {\n",
       "        text-align: right;\n",
       "    }\n",
       "</style>\n",
       "<table border=\"1\" class=\"dataframe\">\n",
       "  <thead>\n",
       "    <tr style=\"text-align: right;\">\n",
       "      <th></th>\n",
       "      <th>Rating</th>\n",
       "      <th>Rating Count</th>\n",
       "      <th>Minimum Installs</th>\n",
       "      <th>Maximum Installs</th>\n",
       "      <th>Price</th>\n",
       "    </tr>\n",
       "  </thead>\n",
       "  <tbody>\n",
       "    <tr>\n",
       "      <th>count</th>\n",
       "      <td>2.290061e+06</td>\n",
       "      <td>2.290061e+06</td>\n",
       "      <td>2.312837e+06</td>\n",
       "      <td>2.312944e+06</td>\n",
       "      <td>2.312944e+06</td>\n",
       "    </tr>\n",
       "    <tr>\n",
       "      <th>mean</th>\n",
       "      <td>2.203152e+00</td>\n",
       "      <td>2.864839e+03</td>\n",
       "      <td>1.834452e+05</td>\n",
       "      <td>3.202017e+05</td>\n",
       "      <td>1.034992e-01</td>\n",
       "    </tr>\n",
       "    <tr>\n",
       "      <th>std</th>\n",
       "      <td>2.106223e+00</td>\n",
       "      <td>2.121626e+05</td>\n",
       "      <td>1.513144e+07</td>\n",
       "      <td>2.355495e+07</td>\n",
       "      <td>2.633127e+00</td>\n",
       "    </tr>\n",
       "    <tr>\n",
       "      <th>min</th>\n",
       "      <td>0.000000e+00</td>\n",
       "      <td>0.000000e+00</td>\n",
       "      <td>0.000000e+00</td>\n",
       "      <td>0.000000e+00</td>\n",
       "      <td>0.000000e+00</td>\n",
       "    </tr>\n",
       "    <tr>\n",
       "      <th>25%</th>\n",
       "      <td>0.000000e+00</td>\n",
       "      <td>0.000000e+00</td>\n",
       "      <td>5.000000e+01</td>\n",
       "      <td>8.400000e+01</td>\n",
       "      <td>0.000000e+00</td>\n",
       "    </tr>\n",
       "    <tr>\n",
       "      <th>50%</th>\n",
       "      <td>2.900000e+00</td>\n",
       "      <td>6.000000e+00</td>\n",
       "      <td>5.000000e+02</td>\n",
       "      <td>6.950000e+02</td>\n",
       "      <td>0.000000e+00</td>\n",
       "    </tr>\n",
       "    <tr>\n",
       "      <th>75%</th>\n",
       "      <td>4.300000e+00</td>\n",
       "      <td>4.200000e+01</td>\n",
       "      <td>5.000000e+03</td>\n",
       "      <td>7.354000e+03</td>\n",
       "      <td>0.000000e+00</td>\n",
       "    </tr>\n",
       "    <tr>\n",
       "      <th>max</th>\n",
       "      <td>5.000000e+00</td>\n",
       "      <td>1.385576e+08</td>\n",
       "      <td>1.000000e+10</td>\n",
       "      <td>1.205763e+10</td>\n",
       "      <td>4.000000e+02</td>\n",
       "    </tr>\n",
       "  </tbody>\n",
       "</table>\n",
       "</div>"
      ],
      "text/plain": [
       "             Rating  Rating Count  Minimum Installs  Maximum Installs  \\\n",
       "count  2.290061e+06  2.290061e+06      2.312837e+06      2.312944e+06   \n",
       "mean   2.203152e+00  2.864839e+03      1.834452e+05      3.202017e+05   \n",
       "std    2.106223e+00  2.121626e+05      1.513144e+07      2.355495e+07   \n",
       "min    0.000000e+00  0.000000e+00      0.000000e+00      0.000000e+00   \n",
       "25%    0.000000e+00  0.000000e+00      5.000000e+01      8.400000e+01   \n",
       "50%    2.900000e+00  6.000000e+00      5.000000e+02      6.950000e+02   \n",
       "75%    4.300000e+00  4.200000e+01      5.000000e+03      7.354000e+03   \n",
       "max    5.000000e+00  1.385576e+08      1.000000e+10      1.205763e+10   \n",
       "\n",
       "              Price  \n",
       "count  2.312944e+06  \n",
       "mean   1.034992e-01  \n",
       "std    2.633127e+00  \n",
       "min    0.000000e+00  \n",
       "25%    0.000000e+00  \n",
       "50%    0.000000e+00  \n",
       "75%    0.000000e+00  \n",
       "max    4.000000e+02  "
      ]
     },
     "execution_count": 30,
     "metadata": {},
     "output_type": "execute_result"
    }
   ],
   "source": [
    "df.describe()"
   ]
  },
  {
   "cell_type": "code",
   "execution_count": 31,
   "id": "cdf59a42",
   "metadata": {},
   "outputs": [
    {
     "data": {
      "text/plain": [
       "0"
      ]
     },
     "execution_count": 31,
     "metadata": {},
     "output_type": "execute_result"
    }
   ],
   "source": [
    " df.duplicated().sum()"
   ]
  },
  {
   "cell_type": "code",
   "execution_count": 32,
   "id": "6ce5c8b6",
   "metadata": {},
   "outputs": [
    {
     "data": {
      "text/plain": [
       "array(['Adventure', 'Tools', 'Productivity', 'Communication', 'Social',\n",
       "       'Libraries & Demo', 'Lifestyle', 'Personalization', 'Racing',\n",
       "       'Maps & Navigation', 'Travel & Local', 'Food & Drink',\n",
       "       'Books & Reference', 'Medical', 'Puzzle', 'Entertainment',\n",
       "       'Arcade', 'Auto & Vehicles', 'Photography', 'Health & Fitness',\n",
       "       'Education', 'Shopping', 'Board', 'Music & Audio', 'Sports',\n",
       "       'Beauty', 'Business', 'Educational', 'Finance', 'News & Magazines',\n",
       "       'Casual', 'Art & Design', 'House & Home', 'Card', 'Events',\n",
       "       'Trivia', 'Weather', 'Strategy', 'Word', 'Video Players & Editors',\n",
       "       'Action', 'Simulation', 'Music', 'Dating', 'Role Playing',\n",
       "       'Casino', 'Comics', 'Parenting'], dtype=object)"
      ]
     },
     "execution_count": 32,
     "metadata": {},
     "output_type": "execute_result"
    }
   ],
   "source": [
    "df['Category'].unique()"
   ]
  },
  {
   "cell_type": "code",
   "execution_count": 33,
   "id": "3a214cbf",
   "metadata": {},
   "outputs": [
    {
     "data": {
      "text/plain": [
       "App Name                  2\n",
       "App Id                    0\n",
       "Category                  0\n",
       "Rating                22883\n",
       "Rating Count          22883\n",
       "Installs                107\n",
       "Minimum Installs        107\n",
       "Maximum Installs          0\n",
       "Free                      0\n",
       "Price                     0\n",
       "Currency                135\n",
       "Size                    196\n",
       "Minimum Android        6530\n",
       "Developer Id             33\n",
       "Developer Website    760835\n",
       "Developer Email          31\n",
       "Released              71053\n",
       "Last Updated              0\n",
       "Content Rating            0\n",
       "Privacy Policy       420953\n",
       "Ad Supported              0\n",
       "In App Purchases          0\n",
       "Editors Choice            0\n",
       "Scraped Time              0\n",
       "dtype: int64"
      ]
     },
     "execution_count": 33,
     "metadata": {},
     "output_type": "execute_result"
    }
   ],
   "source": [
    "df.isnull().sum()"
   ]
  },
  {
   "cell_type": "code",
   "execution_count": 34,
   "id": "3d5608a6",
   "metadata": {},
   "outputs": [],
   "source": [
    "df = df.dropna(subset=['App Name'])"
   ]
  },
  {
   "cell_type": "code",
   "execution_count": 35,
   "id": "c8c036af",
   "metadata": {},
   "outputs": [],
   "source": [
    "df['Rating'].fillna(0, inplace=True)\n",
    "df['Rating Count'].fillna(0, inplace=True)"
   ]
  },
  {
   "cell_type": "code",
   "execution_count": 36,
   "id": "5cf0099a",
   "metadata": {},
   "outputs": [
    {
     "data": {
      "text/plain": [
       "USD    2311546\n",
       "XXX       1236\n",
       "EUR          6\n",
       "INR          5\n",
       "GBP          3\n",
       "CAD          2\n",
       "VND          1\n",
       "BRL          1\n",
       "KRW          1\n",
       "TRY          1\n",
       "RUB          1\n",
       "SGD          1\n",
       "AUD          1\n",
       "PKR          1\n",
       "ZAR          1\n",
       "Name: Currency, dtype: int64"
      ]
     },
     "execution_count": 36,
     "metadata": {},
     "output_type": "execute_result"
    }
   ],
   "source": [
    "df['Currency'].value_counts()"
   ]
  },
  {
   "cell_type": "code",
   "execution_count": 39,
   "id": "680df1dd",
   "metadata": {},
   "outputs": [],
   "source": [
    "df['Currency'].fillna('USD', inplace=True)"
   ]
  },
  {
   "cell_type": "code",
   "execution_count": 40,
   "id": "6a5b3981",
   "metadata": {},
   "outputs": [],
   "source": [
    "df['Size'].fillna('Unknown', inplace=True)"
   ]
  },
  {
   "cell_type": "code",
   "execution_count": 41,
   "id": "c419b969",
   "metadata": {},
   "outputs": [
    {
     "data": {
      "text/plain": [
       "4.1 and up      604464\n",
       "5.0 and up      396998\n",
       "4.4 and up      390310\n",
       "4.0.3 and up    180482\n",
       "4.0 and up      153441\n",
       "                 ...  \n",
       "2.3 - 3.2            1\n",
       "6.0 - 7.1.1          1\n",
       "2.3 - 8.0            1\n",
       "3.0 - 7.1.1          1\n",
       "2.3.3 - 6.0          1\n",
       "Name: Minimum Android, Length: 154, dtype: int64"
      ]
     },
     "execution_count": 41,
     "metadata": {},
     "output_type": "execute_result"
    }
   ],
   "source": [
    "df['Minimum Android'].value_counts()"
   ]
  },
  {
   "cell_type": "code",
   "execution_count": 43,
   "id": "5888923c",
   "metadata": {},
   "outputs": [],
   "source": [
    "df['Minimum Android'].fillna('4.1 and up', inplace=True)"
   ]
  },
  {
   "cell_type": "code",
   "execution_count": 44,
   "id": "e7d0d305",
   "metadata": {},
   "outputs": [],
   "source": [
    "df['Developer Id'].fillna('Unknown', inplace=True)\n",
    "df['Developer Email'].fillna('Unknown', inplace=True)\n",
    "df['Developer Website'].fillna('Unknown', inplace=True)"
   ]
  },
  {
   "cell_type": "code",
   "execution_count": 47,
   "id": "e85cd5e1",
   "metadata": {},
   "outputs": [],
   "source": [
    "df['Privacy Policy'].fillna('Unknown', inplace=True)"
   ]
  },
  {
   "cell_type": "code",
   "execution_count": 49,
   "id": "3f68f532",
   "metadata": {},
   "outputs": [
    {
     "name": "stderr",
     "output_type": "stream",
     "text": [
      "C:\\Users\\RASOUL\\AppData\\Local\\Temp\\ipykernel_16316\\140360366.py:1: FutureWarning: The default value of regex will change from True to False in a future version. In addition, single character regular expressions will *not* be treated as literal strings when regex=True.\n",
      "  df['Installs'] = df['Installs'].astype(str).str.replace(',', '').str.replace('+', '').astype(float)\n"
     ]
    }
   ],
   "source": [
    "df['Installs'] = df['Installs'].astype(str).str.replace(',', '').str.replace('+', '').astype(float)"
   ]
  },
  {
   "cell_type": "code",
   "execution_count": 48,
   "id": "089a396b",
   "metadata": {},
   "outputs": [],
   "source": [
    "df = df.dropna(subset=['Installs', 'Minimum Installs'])"
   ]
  },
  {
   "cell_type": "code",
   "execution_count": 50,
   "id": "485ed0be",
   "metadata": {},
   "outputs": [],
   "source": [
    "df['Price'] = df['Price'].astype(float)"
   ]
  },
  {
   "cell_type": "code",
   "execution_count": 51,
   "id": "66f0546b",
   "metadata": {},
   "outputs": [],
   "source": [
    "df['Released'] = pd.to_datetime(df['Released'], errors='coerce')\n",
    "df['Last Updated'] = pd.to_datetime(df['Last Updated'], errors='coerce')\n",
    "df['Released'].fillna(pd.to_datetime(\"2000-01-01\"), inplace=True)"
   ]
  },
  {
   "cell_type": "code",
   "execution_count": 53,
   "id": "fedd3c4b",
   "metadata": {},
   "outputs": [
    {
     "name": "stdout",
     "output_type": "stream",
     "text": [
      "App Name             0\n",
      "App Id               0\n",
      "Category             0\n",
      "Rating               0\n",
      "Rating Count         0\n",
      "Installs             0\n",
      "Minimum Installs     0\n",
      "Maximum Installs     0\n",
      "Free                 0\n",
      "Price                0\n",
      "Currency             0\n",
      "Size                 0\n",
      "Minimum Android      0\n",
      "Developer Id         0\n",
      "Developer Website    0\n",
      "Developer Email      0\n",
      "Released             0\n",
      "Last Updated         0\n",
      "Content Rating       0\n",
      "Privacy Policy       0\n",
      "Ad Supported         0\n",
      "In App Purchases     0\n",
      "Editors Choice       0\n",
      "Scraped Time         0\n",
      "dtype: int64\n"
     ]
    }
   ],
   "source": [
    "print(df.isnull().sum())"
   ]
  },
  {
   "cell_type": "code",
   "execution_count": 54,
   "id": "b8754782",
   "metadata": {},
   "outputs": [],
   "source": [
    "df.to_csv(r\"C:\\Users\\RASOUL\\Desktop\\Google-Playstore2.csv\", index=False)"
   ]
  },
  {
   "cell_type": "code",
   "execution_count": null,
   "id": "66efaa5f",
   "metadata": {},
   "outputs": [],
   "source": []
  }
 ],
 "metadata": {
  "kernelspec": {
   "display_name": "Python 3 (ipykernel)",
   "language": "python",
   "name": "python3"
  },
  "language_info": {
   "codemirror_mode": {
    "name": "ipython",
    "version": 3
   },
   "file_extension": ".py",
   "mimetype": "text/x-python",
   "name": "python",
   "nbconvert_exporter": "python",
   "pygments_lexer": "ipython3",
   "version": "3.9.13"
  }
 },
 "nbformat": 4,
 "nbformat_minor": 5
}
